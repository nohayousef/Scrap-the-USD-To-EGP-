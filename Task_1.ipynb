{
 "cells": [
  {
   "cell_type": "markdown",
   "id": "c909417a",
   "metadata": {},
   "source": [
    "## Task 1\n",
    "Scrap the USD To EGP Exchange rate from this website\n",
    "https://www.exchangerates.org.uk/Dollars-to-Egyptian-Pounds-currency-conversion-page.html\n",
    "and then use it to make a software that takes amount of USD Dollars from the user and calculate how much will it cost in EGP.\n"
   ]
  },
  {
   "cell_type": "code",
   "execution_count": 1,
   "id": "8feb5db1",
   "metadata": {},
   "outputs": [],
   "source": [
    "import requests\n",
    "from bs4 import BeautifulSoup"
   ]
  },
  {
   "cell_type": "code",
   "execution_count": 2,
   "id": "8f892191",
   "metadata": {},
   "outputs": [],
   "source": [
    "url = \"https://www.exchangerates.org.uk/Dollars-to-Egyptian-Pounds-currency-conversion-page.html\""
   ]
  },
  {
   "cell_type": "code",
   "execution_count": 3,
   "id": "5613b559",
   "metadata": {},
   "outputs": [
    {
     "data": {
      "text/plain": [
       "<Response [200]>"
      ]
     },
     "execution_count": 3,
     "metadata": {},
     "output_type": "execute_result"
    }
   ],
   "source": [
    "#response = requests.get(url)\n",
    "response = requests.request(method=\"GET\", url=url)\n",
    "response"
   ]
  },
  {
   "cell_type": "code",
   "execution_count": 4,
   "id": "483fb8a0",
   "metadata": {},
   "outputs": [],
   "source": [
    "soup = BeautifulSoup(response.text, \"html.parser\")"
   ]
  },
  {
   "cell_type": "code",
   "execution_count": 5,
   "id": "8fcec30c",
   "metadata": {},
   "outputs": [
    {
     "data": {
      "text/plain": [
       "47.6017"
      ]
     },
     "execution_count": 5,
     "metadata": {},
     "output_type": "execute_result"
    }
   ],
   "source": [
    "rate = float(soup.find(\"span\", attrs={\"id\":\"shd2b;\"}).get_text())\n",
    "rate"
   ]
  },
  {
   "cell_type": "code",
   "execution_count": 6,
   "id": "1039c546",
   "metadata": {},
   "outputs": [
    {
     "name": "stdout",
     "output_type": "stream",
     "text": [
      "200.0 in USD = 9520.34 in EGP\n"
     ]
    }
   ],
   "source": [
    "amount = float(input(\"Enter the amount in USD : \"))\n",
    "result = amount * rate\n",
    "print(f\"{amount} in USD = {result} in EGP\")"
   ]
  }
 ],
 "metadata": {
  "kernelspec": {
   "display_name": "Python 3 (ipykernel)",
   "language": "python",
   "name": "python3"
  },
  "language_info": {
   "codemirror_mode": {
    "name": "ipython",
    "version": 3
   },
   "file_extension": ".py",
   "mimetype": "text/x-python",
   "name": "python",
   "nbconvert_exporter": "python",
   "pygments_lexer": "ipython3",
   "version": "3.11.5"
  }
 },
 "nbformat": 4,
 "nbformat_minor": 5
}
